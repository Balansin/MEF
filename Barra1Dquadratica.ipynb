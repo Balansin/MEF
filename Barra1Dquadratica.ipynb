{
 "cells": [
  {
   "cell_type": "code",
   "execution_count": 24,
   "id": "6d322066-2005-48fa-937e-242eae22cf4c",
   "metadata": {},
   "outputs": [],
   "source": [
    "# Importar todos os comandos da biblioteca sympy\n",
    "from sympy import *\n",
    "import numpy as np\n",
    "\n",
    "x,x_i,x_j,L_e,E,A,qi,qj,qk = symbols('x x_i x_j L_e E A qi qj qk')"
   ]
  },
  {
   "cell_type": "code",
   "execution_count": 25,
   "id": "40dbd7d9-a47e-40f9-8cd2-51d492d9c2c3",
   "metadata": {},
   "outputs": [
    {
     "name": "stdout",
     "output_type": "stream",
     "text": [
      "Matrix([[1], [x], [x**2]])\n"
     ]
    }
   ],
   "source": [
    "PSI=Matrix([1, x, x**2])\n",
    "PSI0=Matrix([ [1, 0, 0] , [1, L_e, L_e**2] , [1, 2*L_e, 4*L_e**2] ])\n",
    "print(PSI)"
   ]
  },
  {
   "cell_type": "code",
   "execution_count": 26,
   "id": "9a358950-4e49-4214-99e1-cd496e4e43db",
   "metadata": {},
   "outputs": [
    {
     "data": {
      "text/latex": [
       "$\\displaystyle \\left[\\begin{matrix}1 - \\frac{3 x}{2 L_{e}} + \\frac{x^{2}}{2 L_{e}^{2}} & \\frac{x \\left(2 L_{e} - x\\right)}{L_{e}^{2}} & \\frac{x \\left(- L_{e} + x\\right)}{2 L_{e}^{2}}\\end{matrix}\\right]$"
      ],
      "text/plain": [
       "Matrix([[1 - 3*x/(2*L_e) + x**2/(2*L_e**2), x*(2*L_e - x)/L_e**2, x*(-L_e + x)/(2*L_e**2)]])"
      ]
     },
     "execution_count": 26,
     "metadata": {},
     "output_type": "execute_result"
    }
   ],
   "source": [
    "N = PSI.T*PSI0.inv()\n",
    "simplify(N)"
   ]
  },
  {
   "cell_type": "code",
   "execution_count": 27,
   "id": "8a174129-04e7-4e78-9999-3858d08fa5ae",
   "metadata": {},
   "outputs": [
    {
     "data": {
      "text/latex": [
       "$\\displaystyle \\left[\\begin{matrix}\\frac{- \\frac{3 L_{e}}{2} + x}{L_{e}^{2}} & \\frac{2 \\left(L_{e} - x\\right)}{L_{e}^{2}} & \\frac{- \\frac{L_{e}}{2} + x}{L_{e}^{2}}\\end{matrix}\\right]$"
      ],
      "text/plain": [
       "Matrix([[(-3*L_e/2 + x)/L_e**2, 2*(L_e - x)/L_e**2, (-L_e/2 + x)/L_e**2]])"
      ]
     },
     "execution_count": 27,
     "metadata": {},
     "output_type": "execute_result"
    }
   ],
   "source": [
    "B = diff(N,x)\n",
    "simplify(B)"
   ]
  },
  {
   "cell_type": "code",
   "execution_count": 28,
   "id": "1d73db54-e821-4c74-b556-9d434acb416d",
   "metadata": {},
   "outputs": [
    {
     "data": {
      "text/latex": [
       "$\\displaystyle \\left[\\begin{matrix}\\frac{13 A E}{12 L_{e}} & - \\frac{7 A E}{6 L_{e}} & \\frac{A E}{12 L_{e}}\\\\- \\frac{7 A E}{6 L_{e}} & \\frac{4 A E}{3 L_{e}} & - \\frac{A E}{6 L_{e}}\\\\\\frac{A E}{12 L_{e}} & - \\frac{A E}{6 L_{e}} & \\frac{A E}{12 L_{e}}\\end{matrix}\\right]$"
      ],
      "text/plain": [
       "Matrix([\n",
       "[13*A*E/(12*L_e), -7*A*E/(6*L_e), A*E/(12*L_e)],\n",
       "[ -7*A*E/(6*L_e),  4*A*E/(3*L_e), -A*E/(6*L_e)],\n",
       "[   A*E/(12*L_e),   -A*E/(6*L_e), A*E/(12*L_e)]])"
      ]
     },
     "execution_count": 28,
     "metadata": {},
     "output_type": "execute_result"
    }
   ],
   "source": [
    "ke=integrate(B.T*E*A*B,(x,0,L_e))\n",
    "simplify(ke)"
   ]
  },
  {
   "cell_type": "code",
   "execution_count": 30,
   "id": "16a5b59d-981c-451f-b790-fe41cae7a86e",
   "metadata": {},
   "outputs": [
    {
     "data": {
      "text/latex": [
       "$\\displaystyle \\left[\\begin{matrix}\\frac{L_{e} \\left(4 qi + 2 qj - qk\\right)}{15}\\\\\\frac{2 L_{e} \\left(qi + 8 qj + qk\\right)}{15}\\\\\\frac{L_{e} \\left(- qi + 2 qj + 4 qk\\right)}{15}\\end{matrix}\\right]$"
      ],
      "text/plain": [
       "Matrix([\n",
       "[ L_e*(4*qi + 2*qj - qk)/15],\n",
       "[ 2*L_e*(qi + 8*qj + qk)/15],\n",
       "[L_e*(-qi + 2*qj + 4*qk)/15]])"
      ]
     },
     "execution_count": 30,
     "metadata": {},
     "output_type": "execute_result"
    }
   ],
   "source": [
    "q=Matrix([qi,qj,qk])\n",
    "fe=integrate(N.T*N*q,(x,0,2*L_e))\n",
    "simplify(fe)"
   ]
  },
  {
   "cell_type": "code",
   "execution_count": null,
   "id": "ed1a5fd7-1930-4ec8-a896-5163a70a8f0e",
   "metadata": {},
   "outputs": [],
   "source": []
  }
 ],
 "metadata": {
  "kernelspec": {
   "display_name": "Python 3 (ipykernel)",
   "language": "python",
   "name": "python3"
  },
  "language_info": {
   "codemirror_mode": {
    "name": "ipython",
    "version": 3
   },
   "file_extension": ".py",
   "mimetype": "text/x-python",
   "name": "python",
   "nbconvert_exporter": "python",
   "pygments_lexer": "ipython3",
   "version": "3.10.9"
  }
 },
 "nbformat": 4,
 "nbformat_minor": 5
}
