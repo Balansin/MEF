{
 "cells": [
  {
   "cell_type": "code",
   "execution_count": 38,
   "id": "6d322066-2005-48fa-937e-242eae22cf4c",
   "metadata": {},
   "outputs": [],
   "source": [
    "# Importar todos os comandos da biblioteca sympy\n",
    "from sympy import *\n",
    "import numpy as np\n",
    "\n",
    "x,x_i,x_j,L_e,E,I,q0 = symbols('x x_i x_j L_e E I q0')"
   ]
  },
  {
   "cell_type": "code",
   "execution_count": 33,
   "id": "40dbd7d9-a47e-40f9-8cd2-51d492d9c2c3",
   "metadata": {},
   "outputs": [
    {
     "name": "stdout",
     "output_type": "stream",
     "text": [
      "Matrix([[1], [x], [x**2], [x**3]])\n"
     ]
    }
   ],
   "source": [
    "PSI=Matrix([1, x, x**2, x**3])\n",
    "PSI0=Matrix([ [1, -L_e/2, L_e**2/4,  -L_e**3/8] , \n",
    "              [0,      1, -L_e    , 3*L_e**2/4] , \n",
    "              [1,  L_e/2, L_e**2/4,   L_e**3/8] , \n",
    "              [0,      1,  L_e    , 3*L_e**2/4] ])\n",
    "print(PSI)"
   ]
  },
  {
   "cell_type": "code",
   "execution_count": 40,
   "id": "9a358950-4e49-4214-99e1-cd496e4e43db",
   "metadata": {},
   "outputs": [
    {
     "data": {
      "text/latex": [
       "$\\displaystyle \\left[\\begin{matrix}\\frac{1}{2} - \\frac{3 x}{2 L_{e}} + \\frac{2 x^{3}}{L_{e}^{3}} & \\frac{L_{e}}{8} - \\frac{x}{4} - \\frac{x^{2}}{2 L_{e}} + \\frac{x^{3}}{L_{e}^{2}} & \\frac{1}{2} + \\frac{3 x}{2 L_{e}} - \\frac{2 x^{3}}{L_{e}^{3}} & - \\frac{L_{e}}{8} - \\frac{x}{4} + \\frac{x^{2}}{2 L_{e}} + \\frac{x^{3}}{L_{e}^{2}}\\end{matrix}\\right]$"
      ],
      "text/plain": [
       "Matrix([[1/2 - 3*x/(2*L_e) + 2*x**3/L_e**3, L_e/8 - x/4 - x**2/(2*L_e) + x**3/L_e**2, 1/2 + 3*x/(2*L_e) - 2*x**3/L_e**3, -L_e/8 - x/4 + x**2/(2*L_e) + x**3/L_e**2]])"
      ]
     },
     "execution_count": 40,
     "metadata": {},
     "output_type": "execute_result"
    }
   ],
   "source": [
    "N = PSI.T*PSI0.inv()\n",
    "simplify(N)"
   ]
  },
  {
   "cell_type": "code",
   "execution_count": 41,
   "id": "8a174129-04e7-4e78-9999-3858d08fa5ae",
   "metadata": {},
   "outputs": [
    {
     "data": {
      "text/latex": [
       "$\\displaystyle \\left[\\begin{matrix}\\frac{12 x}{L_{e}^{3}} & \\frac{- L_{e} + 6 x}{L_{e}^{2}} & - \\frac{12 x}{L_{e}^{3}} & \\frac{L_{e} + 6 x}{L_{e}^{2}}\\end{matrix}\\right]$"
      ],
      "text/plain": [
       "Matrix([[12*x/L_e**3, (-L_e + 6*x)/L_e**2, -12*x/L_e**3, (L_e + 6*x)/L_e**2]])"
      ]
     },
     "execution_count": 41,
     "metadata": {},
     "output_type": "execute_result"
    }
   ],
   "source": [
    "B = diff(N,x,x)\n",
    "simplify(B)"
   ]
  },
  {
   "cell_type": "code",
   "execution_count": 42,
   "id": "1d73db54-e821-4c74-b556-9d434acb416d",
   "metadata": {},
   "outputs": [
    {
     "data": {
      "text/latex": [
       "$\\displaystyle \\left[\\begin{matrix}\\frac{12 E I}{L_{e}^{3}} & \\frac{6 E I}{L_{e}^{2}} & - \\frac{12 E I}{L_{e}^{3}} & \\frac{6 E I}{L_{e}^{2}}\\\\\\frac{6 E I}{L_{e}^{2}} & \\frac{4 E I}{L_{e}} & - \\frac{6 E I}{L_{e}^{2}} & \\frac{2 E I}{L_{e}}\\\\- \\frac{12 E I}{L_{e}^{3}} & - \\frac{6 E I}{L_{e}^{2}} & \\frac{12 E I}{L_{e}^{3}} & - \\frac{6 E I}{L_{e}^{2}}\\\\\\frac{6 E I}{L_{e}^{2}} & \\frac{2 E I}{L_{e}} & - \\frac{6 E I}{L_{e}^{2}} & \\frac{4 E I}{L_{e}}\\end{matrix}\\right]$"
      ],
      "text/plain": [
       "Matrix([\n",
       "[ 12*E*I/L_e**3,  6*E*I/L_e**2, -12*E*I/L_e**3,  6*E*I/L_e**2],\n",
       "[  6*E*I/L_e**2,     4*E*I/L_e,  -6*E*I/L_e**2,     2*E*I/L_e],\n",
       "[-12*E*I/L_e**3, -6*E*I/L_e**2,  12*E*I/L_e**3, -6*E*I/L_e**2],\n",
       "[  6*E*I/L_e**2,     2*E*I/L_e,  -6*E*I/L_e**2,     4*E*I/L_e]])"
      ]
     },
     "execution_count": 42,
     "metadata": {},
     "output_type": "execute_result"
    }
   ],
   "source": [
    "ke=integrate(B.T*E*I*B,(x,-L_e/2,L_e/2))\n",
    "simplify(ke)"
   ]
  },
  {
   "cell_type": "code",
   "execution_count": 43,
   "id": "16a5b59d-981c-451f-b790-fe41cae7a86e",
   "metadata": {},
   "outputs": [
    {
     "data": {
      "text/latex": [
       "$\\displaystyle \\left[\\begin{matrix}\\frac{L_{e} q_{0}}{2}\\\\\\frac{L_{e}^{2} q_{0}}{12}\\\\\\frac{L_{e} q_{0}}{2}\\\\- \\frac{L_{e}^{2} q_{0}}{12}\\end{matrix}\\right]$"
      ],
      "text/plain": [
       "Matrix([\n",
       "[     L_e*q0/2],\n",
       "[ L_e**2*q0/12],\n",
       "[     L_e*q0/2],\n",
       "[-L_e**2*q0/12]])"
      ]
     },
     "execution_count": 43,
     "metadata": {},
     "output_type": "execute_result"
    }
   ],
   "source": [
    "#q=Matrix([qi,qj,qk])\n",
    "fe=integrate(N.T*q0,(x,-L_e/2,L_e/2))\n",
    "simplify(fe)"
   ]
  },
  {
   "cell_type": "code",
   "execution_count": null,
   "id": "ed1a5fd7-1930-4ec8-a896-5163a70a8f0e",
   "metadata": {},
   "outputs": [],
   "source": []
  }
 ],
 "metadata": {
  "kernelspec": {
   "display_name": "Python 3 (ipykernel)",
   "language": "python",
   "name": "python3"
  },
  "language_info": {
   "codemirror_mode": {
    "name": "ipython",
    "version": 3
   },
   "file_extension": ".py",
   "mimetype": "text/x-python",
   "name": "python",
   "nbconvert_exporter": "python",
   "pygments_lexer": "ipython3",
   "version": "3.10.9"
  }
 },
 "nbformat": 4,
 "nbformat_minor": 5
}
